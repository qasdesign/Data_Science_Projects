{
 "cells": [
  {
   "cell_type": "code",
   "execution_count": 58,
   "id": "8eb2308e",
   "metadata": {},
   "outputs": [],
   "source": [
    "def containsDuplicate(nums):\n",
    "        \"\"\"\n",
    "        :type nums: List[int]\n",
    "        :rtype: bool\n",
    "        \"\"\"\n",
    "        hashset = set()\n",
    "        for n in nums:\n",
    "            if n in hashset:\n",
    "                return True\n",
    "            hashset.add(n)\n",
    "        return False"
   ]
  },
  {
   "cell_type": "code",
   "execution_count": 60,
   "id": "8e373b87",
   "metadata": {},
   "outputs": [
    {
     "data": {
      "text/plain": [
       "True"
      ]
     },
     "execution_count": 60,
     "metadata": {},
     "output_type": "execute_result"
    }
   ],
   "source": [
    "nums = [1,2,3,3]\n",
    "containsDuplicate(nums)"
   ]
  },
  {
   "cell_type": "code",
   "execution_count": 186,
   "id": "6d933284",
   "metadata": {},
   "outputs": [],
   "source": [
    "class MinStack:\n",
    "\n",
    "    def __init__(self):\n",
    "        self.stack = []\n",
    "        self.minStack = []\n",
    "        \n",
    "    def push(self, val: int) -> None:\n",
    "        self.stack.append(val)\n",
    "        val = min(val, self.minStack[-1] if self.minStack else val)\n",
    "        self.minStack.append(val)\n",
    "\n",
    "    def pop(self) -> None:\n",
    "        self.stack.pop()\n",
    "        self.minStack.pop()\n",
    "\n",
    "    def top(self) -> int:\n",
    "        return self.stack[-1]\n",
    "\n",
    "    def getMin(self) -> int:\n",
    "        return self.minStack[-1]"
   ]
  },
  {
   "cell_type": "code",
   "execution_count": 187,
   "id": "7c5cc779",
   "metadata": {},
   "outputs": [],
   "source": [
    "obj = MinStack()"
   ]
  },
  {
   "cell_type": "code",
   "execution_count": 188,
   "id": "b26968d7",
   "metadata": {},
   "outputs": [],
   "source": [
    "obj.push(6)"
   ]
  },
  {
   "cell_type": "code",
   "execution_count": 189,
   "id": "fe3b80bb",
   "metadata": {},
   "outputs": [],
   "source": [
    "obj.push(7)"
   ]
  },
  {
   "cell_type": "code",
   "execution_count": 190,
   "id": "5db07a65",
   "metadata": {},
   "outputs": [],
   "source": [
    "obj.push(4)"
   ]
  },
  {
   "cell_type": "code",
   "execution_count": 191,
   "id": "b2366730",
   "metadata": {},
   "outputs": [],
   "source": [
    "obj.push(9)"
   ]
  },
  {
   "cell_type": "code",
   "execution_count": 192,
   "id": "0967ccda",
   "metadata": {},
   "outputs": [
    {
     "data": {
      "text/plain": [
       "4"
      ]
     },
     "execution_count": 192,
     "metadata": {},
     "output_type": "execute_result"
    }
   ],
   "source": [
    "obj.getMin()"
   ]
  },
  {
   "cell_type": "code",
   "execution_count": 1,
   "id": "164334b1",
   "metadata": {},
   "outputs": [],
   "source": [
    "def containsDuplicate2(nums):\n",
    "        \"\"\"\n",
    "        :type nums: List[int]\n",
    "        :rtype: bool\n",
    "        \"\"\"\n",
    "        hashset = set()\n",
    "        for n in nums:\n",
    "            for j in hashset:\n",
    "                if n == j:\n",
    "                    return True\n",
    "            hashset.add(n)\n",
    "        return False"
   ]
  },
  {
   "cell_type": "code",
   "execution_count": 3,
   "id": "b9d1f6ec",
   "metadata": {},
   "outputs": [
    {
     "data": {
      "text/plain": [
       "False"
      ]
     },
     "execution_count": 3,
     "metadata": {},
     "output_type": "execute_result"
    }
   ],
   "source": [
    "nums = [1,2,3]\n",
    "containsDuplicate2(nums)"
   ]
  },
  {
   "cell_type": "code",
   "execution_count": 4,
   "id": "444a1544",
   "metadata": {},
   "outputs": [],
   "source": [
    "class Solution(object):\n",
    "    def isAnagram(self, s, t):\n",
    "        if len(s) != len(t):\n",
    "            return False\n",
    "\n",
    "        counter = collections.defaultdict(int)\n",
    "\n",
    "        for idx in range(len(s)):\n",
    "            counter[s[idx]] += 1\n",
    "            counter[t[idx]] -= 1\n",
    "\n",
    "        for cnt in counter.values():\n",
    "            if cnt != 0:\n",
    "                return False\n",
    "        else:\n",
    "            return True"
   ]
  },
  {
   "cell_type": "code",
   "execution_count": 18,
   "id": "0c00b04b",
   "metadata": {},
   "outputs": [],
   "source": [
    "from collections import defaultdict\n",
    "\n",
    "def isAnagram(self, s, t):    \n",
    "        alphaDict = defaultdict(int)\n",
    "        \n",
    "        for letter in s:\n",
    "            alphaDict[letter] += 1\n",
    "            \n",
    "        for letter in t:\n",
    "            alphaDict[letter] -= 1\n",
    "            \n",
    "        for letter in alphaDict:\n",
    "            if alphaDict[letter] != 0:\n",
    "                return False\n",
    "        return True"
   ]
  },
  {
   "cell_type": "code",
   "execution_count": 19,
   "id": "af3be47f",
   "metadata": {},
   "outputs": [],
   "source": [
    "class Solution(object):\n",
    "    def isAnagram(self, s, t):\n",
    "        \"\"\"\n",
    "        :type s: str\n",
    "        :type t: str\n",
    "        :rtype: bool\n",
    "        \"\"\"\n",
    "        if len(s) == len(t):\n",
    "            \n",
    "            dictA, dictB = {}, {}\n",
    "            for n in s:\n",
    "                dictA[n] = 1 + dictA.get(n,0)\n",
    "            for n in t:\n",
    "                dictB[n] = 1 + dictB.get(n,0)\n",
    "            if  dictA == dictB:\n",
    "                return True\n",
    "            return False\n",
    "        return False\n"
   ]
  },
  {
   "cell_type": "code",
   "execution_count": 35,
   "id": "4da93736",
   "metadata": {},
   "outputs": [],
   "source": [
    "def twoSum(nums, target):\n",
    "        \"\"\"\n",
    "        :type nums: List[int]\n",
    "        :type target: int\n",
    "        :rtype: List[int]\n",
    "        \"\"\"\n",
    "        for i, n in enumerate(nums):\n",
    "            remainder = abs(int(target) - int(n))\n",
    "            if remainder != n:\n",
    "                if remainder in nums:\n",
    "                    return [i,nums.index(remainder)]"
   ]
  },
  {
   "cell_type": "code",
   "execution_count": 38,
   "id": "4a621885",
   "metadata": {},
   "outputs": [],
   "source": [
    "twoSum([3,3],6)"
   ]
  },
  {
   "cell_type": "code",
   "execution_count": 39,
   "id": "71b00127",
   "metadata": {},
   "outputs": [
    {
     "data": {
      "text/plain": [
       "6"
      ]
     },
     "execution_count": 39,
     "metadata": {},
     "output_type": "execute_result"
    }
   ],
   "source": [
    "[3,2,4]\n",
    "6\n"
   ]
  },
  {
   "cell_type": "code",
   "execution_count": 125,
   "id": "e3f2ef8f",
   "metadata": {},
   "outputs": [],
   "source": [
    "    def twoSum(nums, target):\n",
    "        \"\"\"\n",
    "        :type nums: List[int]\n",
    "        :type target: int\n",
    "        :rtype: List[int]\n",
    "        \"\"\"\n",
    "        prevMap = {} # val -> index\n",
    "        \n",
    "        for i, n in enumerate(nums):\n",
    "            diff = target - n\n",
    "            if diff in prevMap:\n",
    "                return [prevMap[diff], i]\n",
    "            prevMap[n] = i"
   ]
  },
  {
   "cell_type": "code",
   "execution_count": 126,
   "id": "3d824fd3",
   "metadata": {},
   "outputs": [
    {
     "data": {
      "text/plain": [
       "[0, 1]"
      ]
     },
     "execution_count": 126,
     "metadata": {},
     "output_type": "execute_result"
    }
   ],
   "source": [
    "twoSum([3,3,4],6)"
   ]
  },
  {
   "cell_type": "code",
   "execution_count": 212,
   "id": "ddc18c97",
   "metadata": {},
   "outputs": [],
   "source": [
    "def threeSum(nums):\n",
    "        \"\"\"\n",
    "        :type nums: List[int]\n",
    "        :rtype: List[List[int]]\n",
    "        \"\"\"\n",
    "        b=[]\n",
    "        nums.sort()\n",
    "        for i in range(len(nums)):\n",
    "            for j in range(i+1,len(nums)):\n",
    "                for k in range(j+1,len(nums)):\n",
    "                    if nums[i]+nums[j]+nums[k]==0 and [nums[i],nums[j],nums[k]] not in b:\n",
    "                        b.append([nums[i],nums[j],nums[k]]) \n",
    "        return b    "
   ]
  },
  {
   "cell_type": "code",
   "execution_count": 213,
   "id": "af492ca6",
   "metadata": {},
   "outputs": [
    {
     "data": {
      "text/plain": [
       "[[-1, -1, 2], [-1, 0, 1]]"
      ]
     },
     "execution_count": 213,
     "metadata": {},
     "output_type": "execute_result"
    }
   ],
   "source": [
    "threeSum([-1,0,1,2,-1,-4])"
   ]
  },
  {
   "cell_type": "code",
   "execution_count": 214,
   "id": "9cd26b92",
   "metadata": {},
   "outputs": [
    {
     "data": {
      "text/plain": [
       "[[0, 0, 0]]"
      ]
     },
     "execution_count": 214,
     "metadata": {},
     "output_type": "execute_result"
    }
   ],
   "source": [
    "threeSum([0,0,0])"
   ]
  },
  {
   "cell_type": "code",
   "execution_count": 219,
   "id": "ae725c4e",
   "metadata": {},
   "outputs": [],
   "source": [
    "def threeSum(nums):\n",
    "        \"\"\"\n",
    "        :type nums: List[int]\n",
    "        :rtype: List[List[int]]\n",
    "        \"\"\"\n",
    "        res=[]\n",
    "        nums.sort()\n",
    "        for i ,n in enumerate(nums):\n",
    "            if i>0 and n==nums[i-1]:\n",
    "                continue\n",
    "            l, r = i+1, len(nums)-1\n",
    "            while l<r:\n",
    "                threeSum = n + nums[l] + nums[r]\n",
    "                if threeSum > 0:\n",
    "                    r-=1\n",
    "                elif threeSum < 0:\n",
    "                    l+=1\n",
    "                else:\n",
    "                    res.append([n, nums[l], nums[r]])\n",
    "                    l+=1\n",
    "                    while nums[l]==nums[l-1] and l<r:\n",
    "                        l+=1\n",
    "        return res"
   ]
  },
  {
   "cell_type": "code",
   "execution_count": 270,
   "id": "784a5dab",
   "metadata": {},
   "outputs": [],
   "source": [
    "def maxProfit(prices):\n",
    "        \"\"\"\n",
    "        :type prices: List[int]\n",
    "        :rtype: int\n",
    "        \"\"\"\n",
    "        maxP=0\n",
    "        l=0\n",
    "        for r in range(1,len(prices)):\n",
    "            if prices[l]<prices[r]:\n",
    "                res = prices[r]-prices[l]\n",
    "                maxP = max(maxP, res)\n",
    "                r+=1\n",
    "            else:\n",
    "                l,r=r,r+1\n",
    "                \n",
    "        return maxP\n",
    "                \n",
    "                "
   ]
  },
  {
   "cell_type": "code",
   "execution_count": 271,
   "id": "ccc7041d",
   "metadata": {},
   "outputs": [
    {
     "data": {
      "text/plain": [
       "5"
      ]
     },
     "execution_count": 271,
     "metadata": {},
     "output_type": "execute_result"
    }
   ],
   "source": [
    "maxProfit([7,1,5,3,6,4])"
   ]
  },
  {
   "cell_type": "code",
   "execution_count": 276,
   "id": "1a7d7b56",
   "metadata": {},
   "outputs": [],
   "source": [
    "def maxProfit(prices):\n",
    "        \"\"\"\n",
    "        :type prices: List[int]\n",
    "        :rtype: int\n",
    "        \"\"\"\n",
    "        low=prices[0]\n",
    "        profit=0\n",
    "        for i in prices:\n",
    "            if i<low:\n",
    "                low=i\n",
    "            if i-low>profit:\n",
    "                profit=i-low\n",
    "        return profit"
   ]
  },
  {
   "cell_type": "code",
   "execution_count": 277,
   "id": "cfd5d0a7",
   "metadata": {},
   "outputs": [
    {
     "data": {
      "text/plain": [
       "5"
      ]
     },
     "execution_count": 277,
     "metadata": {},
     "output_type": "execute_result"
    }
   ],
   "source": [
    "maxProfit([7,1,5,3,6,4])"
   ]
  },
  {
   "cell_type": "code",
   "execution_count": 329,
   "id": "484e1982",
   "metadata": {},
   "outputs": [],
   "source": [
    "def isValid(s):\n",
    "        \"\"\"\n",
    "        :type s: str\n",
    "        :rtype: bool\n",
    "        \"\"\"\n",
    "        stack=[]\n",
    "        #openB=['(','[','{']\n",
    "        closeB={ \")\":\"(\", \"]\":\"[\", \"}\":\"{\" }\n",
    "        #close=[')',']','}']\n",
    "        for r in s:\n",
    "            if r in closeB:\n",
    "                if stack and stack[-1]==closeB[r]:\n",
    "                    stack.pop()\n",
    "                    continue\n",
    "                else:\n",
    "                    return False\n",
    "            else:\n",
    "                stack.append(r)\n",
    "        return True if not stack else False\n",
    "                "
   ]
  },
  {
   "cell_type": "code",
   "execution_count": 335,
   "id": "446f3949",
   "metadata": {},
   "outputs": [
    {
     "data": {
      "text/plain": [
       "False"
      ]
     },
     "execution_count": 335,
     "metadata": {},
     "output_type": "execute_result"
    }
   ],
   "source": [
    "isValid(\"(()[])[]\")"
   ]
  },
  {
   "cell_type": "code",
   "execution_count": 339,
   "id": "d812fa8a",
   "metadata": {},
   "outputs": [],
   "source": [
    "def dup(nums):\n",
    "    for i, n in enumerate(nums):\n",
    "            for j in range(i+1,len(nums)):\n",
    "                if n==nums[j]: return True\n",
    "    return False"
   ]
  },
  {
   "cell_type": "code",
   "execution_count": 343,
   "id": "fb7b6f98",
   "metadata": {},
   "outputs": [
    {
     "data": {
      "text/plain": [
       "True"
      ]
     },
     "execution_count": 343,
     "metadata": {},
     "output_type": "execute_result"
    }
   ],
   "source": [
    "dup([1,2,3,4,4,6])"
   ]
  },
  {
   "cell_type": "code",
   "execution_count": 360,
   "id": "bd19f47b",
   "metadata": {},
   "outputs": [],
   "source": [
    "def twoSum(nums,target):\n",
    "    dictA = {}\n",
    "    for i,n in enumerate(nums):\n",
    "        res = target-n\n",
    "        if res in dictA:\n",
    "            return [i, dictA[res]]\n",
    "        dictA[n]=i\n",
    "        "
   ]
  },
  {
   "cell_type": "code",
   "execution_count": 361,
   "id": "377050d3",
   "metadata": {},
   "outputs": [
    {
     "data": {
      "text/plain": [
       "[2, 1]"
      ]
     },
     "execution_count": 361,
     "metadata": {},
     "output_type": "execute_result"
    }
   ],
   "source": [
    "twoSum([3,2,4],6)"
   ]
  },
  {
   "cell_type": "code",
   "execution_count": 362,
   "id": "e5305774",
   "metadata": {},
   "outputs": [],
   "source": [
    "def twoSum(nums, target):\n",
    "    hashset = set()\n",
    "    for i,n in enumerate(nums):\n",
    "        res = target-n\n",
    "        if res in hashset: return [i, nums.index(res)]\n",
    "        hashset.add(n)"
   ]
  },
  {
   "cell_type": "code",
   "execution_count": 363,
   "id": "a07b2c3a",
   "metadata": {},
   "outputs": [
    {
     "data": {
      "text/plain": [
       "[2, 1]"
      ]
     },
     "execution_count": 363,
     "metadata": {},
     "output_type": "execute_result"
    }
   ],
   "source": [
    "twoSum([3,2,4],6)"
   ]
  },
  {
   "cell_type": "code",
   "execution_count": 380,
   "id": "0409a957",
   "metadata": {},
   "outputs": [],
   "source": [
    "def groupAnagrams(strs):\n",
    "    ans = defaultdict(list)\n",
    "    for n in strs:\n",
    "        ans[''.join(sorted(n))].append(n)\n",
    "    return list(ans.values())"
   ]
  },
  {
   "cell_type": "code",
   "execution_count": 381,
   "id": "0ea17eb2",
   "metadata": {},
   "outputs": [
    {
     "data": {
      "text/plain": [
       "[['eat', 'tea', 'ate'], ['tan', 'nat'], ['bat']]"
      ]
     },
     "execution_count": 381,
     "metadata": {},
     "output_type": "execute_result"
    }
   ],
   "source": [
    "groupAnagrams([\"eat\",\"tea\",\"tan\",\"ate\",\"nat\",\"bat\"])"
   ]
  },
  {
   "cell_type": "code",
   "execution_count": 501,
   "id": "d69bde43",
   "metadata": {},
   "outputs": [],
   "source": [
    "def groupAnagrams(strs):\n",
    "    ans = defaultdict(list)\n",
    "    subAns = {}\n",
    "    dictP = defaultdict(list)\n",
    "    for n in strs:\n",
    "        for i in n:\n",
    "            subAns[i] = 1 + subAns.get(i,0)\n",
    "        dictP[n]=subAns\n",
    "        ans[tuple(subAns)].append(n)\n",
    "        print(subAns)\n",
    "        subAns={}\n",
    "    \n",
    "    return list(ans.values())"
   ]
  },
  {
   "cell_type": "code",
   "execution_count": 502,
   "id": "447a8450",
   "metadata": {
    "scrolled": true
   },
   "outputs": [
    {
     "name": "stdout",
     "output_type": "stream",
     "text": [
      "{'e': 1, 'a': 1, 't': 1}\n",
      "{'t': 1, 'e': 1, 'a': 1}\n",
      "{'t': 1, 'a': 1, 'n': 1}\n",
      "{'a': 1, 't': 1, 'e': 1}\n",
      "{'n': 1, 'a': 1, 't': 1}\n",
      "{'b': 1, 'a': 1, 't': 1}\n"
     ]
    },
    {
     "data": {
      "text/plain": [
       "[['eat'], ['tea'], ['tan'], ['ate'], ['nat'], ['bat']]"
      ]
     },
     "execution_count": 502,
     "metadata": {},
     "output_type": "execute_result"
    }
   ],
   "source": [
    "groupAnagrams([\"eat\",\"tea\",\"tan\",\"ate\",\"nat\",\"bat\"])"
   ]
  },
  {
   "cell_type": "code",
   "execution_count": 435,
   "id": "094ecdd6",
   "metadata": {},
   "outputs": [
    {
     "name": "stdout",
     "output_type": "stream",
     "text": [
      "{('s',): 2}\n"
     ]
    }
   ],
   "source": [
    "ans, c= {},{'s':2}\n",
    "\n",
    "ans[tuple(c)]=2\n",
    "print(ans)"
   ]
  },
  {
   "cell_type": "code",
   "execution_count": 480,
   "id": "66411959",
   "metadata": {},
   "outputs": [
    {
     "name": "stdout",
     "output_type": "stream",
     "text": [
      "1 t\n",
      "1 e\n",
      "1 a\n",
      "2 t\n",
      "2 e\n",
      "2 a\n",
      "3 t\n",
      "4 t\n",
      "5 t\n"
     ]
    }
   ],
   "source": [
    "n='teateattt'\n",
    "subAns = defaultdict(list)\n",
    "subAns2 = {} \n",
    "for i in n:\n",
    "    subAns2[i] = 1 + subAns2.get(i,0)\n",
    "    \n",
    "    print(subAns2[i],i)"
   ]
  },
  {
   "cell_type": "code",
   "execution_count": 508,
   "id": "95014f79",
   "metadata": {},
   "outputs": [
    {
     "data": {
      "text/plain": [
       "(dict_values([['eat', 'tea', 'ate'], ['tan', 'nat'], ['bat']]),\n",
       " defaultdict(list,\n",
       "             {(1,\n",
       "               0,\n",
       "               0,\n",
       "               0,\n",
       "               1,\n",
       "               0,\n",
       "               0,\n",
       "               0,\n",
       "               0,\n",
       "               0,\n",
       "               0,\n",
       "               0,\n",
       "               0,\n",
       "               0,\n",
       "               0,\n",
       "               0,\n",
       "               0,\n",
       "               0,\n",
       "               0,\n",
       "               1,\n",
       "               0,\n",
       "               0,\n",
       "               0,\n",
       "               0,\n",
       "               0,\n",
       "               0): ['eat', 'tea', 'ate'],\n",
       "              (1,\n",
       "               0,\n",
       "               0,\n",
       "               0,\n",
       "               0,\n",
       "               0,\n",
       "               0,\n",
       "               0,\n",
       "               0,\n",
       "               0,\n",
       "               0,\n",
       "               0,\n",
       "               0,\n",
       "               1,\n",
       "               0,\n",
       "               0,\n",
       "               0,\n",
       "               0,\n",
       "               0,\n",
       "               1,\n",
       "               0,\n",
       "               0,\n",
       "               0,\n",
       "               0,\n",
       "               0,\n",
       "               0): ['tan', 'nat'],\n",
       "              (1,\n",
       "               1,\n",
       "               0,\n",
       "               0,\n",
       "               0,\n",
       "               0,\n",
       "               0,\n",
       "               0,\n",
       "               0,\n",
       "               0,\n",
       "               0,\n",
       "               0,\n",
       "               0,\n",
       "               0,\n",
       "               0,\n",
       "               0,\n",
       "               0,\n",
       "               0,\n",
       "               0,\n",
       "               1,\n",
       "               0,\n",
       "               0,\n",
       "               0,\n",
       "               0,\n",
       "               0,\n",
       "               0): ['bat']}))"
      ]
     },
     "execution_count": 508,
     "metadata": {},
     "output_type": "execute_result"
    }
   ],
   "source": [
    "def groupAnamgram(strs):    \n",
    "    ans = defaultdict(list)\n",
    "    for n in strs:\n",
    "        count = [0]*26\n",
    "        for s in n:\n",
    "            count[ord(s)-ord('a')]+=1\n",
    "        ans[tuple(count)].append(n)\n",
    "    return ans.values(), ans\n",
    "groupAnamgram([\"eat\",\"tea\",\"tan\",\"ate\",\"nat\",\"bat\"])"
   ]
  },
  {
   "cell_type": "code",
   "execution_count": 4,
   "id": "0529fb90",
   "metadata": {},
   "outputs": [
    {
     "data": {
      "text/plain": [
       "dict_values([['eat', 'tea', 'ate'], ['tan', 'nat'], ['bat']])"
      ]
     },
     "execution_count": 4,
     "metadata": {},
     "output_type": "execute_result"
    }
   ],
   "source": [
    "from collections import defaultdict\n",
    "\n",
    "def groupAnamgram(strs):    \n",
    "    ans = defaultdict(list)\n",
    "#     count=defaultdict(list)\n",
    "#     count={'a':0,'b':0,'c':0,'d':0,'e':0,'f':0,'g':0,'h':0,'i':0,'j':0,'k':0,'l':0,'m':0,'n':0,'o':0,'p':0,'q':0,'r':0,'s':0,'t':0,'u':0,'v':0,'w':0,'x':0,'y':0,'z':0}\n",
    "    for n in strs:\n",
    "        count={'a':0,'b':0,'c':0,'d':0,'e':0,'f':0,'g':0,'h':0,'i':0,'j':0,'k':0,'l':0,'m':0,'n':0,'o':0,'p':0,'q':0,'r':0,'s':0,'t':0,'u':0,'v':0,'w':0,'x':0,'y':0,'z':0}\n",
    "        for s in n:\n",
    "            count[s]+=1\n",
    "        ans[tuple(count.values())].append(n)\n",
    "    return ans.values()\n",
    "groupAnamgram([\"eat\",\"tea\",\"tan\",\"ate\",\"nat\",\"bat\"])"
   ]
  },
  {
   "cell_type": "code",
   "execution_count": 8,
   "id": "a179f63a",
   "metadata": {},
   "outputs": [
    {
     "data": {
      "text/plain": [
       "defaultdict(list,\n",
       "            {'a': 0,\n",
       "             'b': 0,\n",
       "             'c': 0,\n",
       "             'd': 0,\n",
       "             'e': 0,\n",
       "             'f': 0,\n",
       "             'g': 0,\n",
       "             'h': 0,\n",
       "             'i': 0,\n",
       "             'j': 0,\n",
       "             'k': 0,\n",
       "             'l': 0,\n",
       "             'm': 0,\n",
       "             'n': 0,\n",
       "             'o': 0,\n",
       "             'p': 0,\n",
       "             'q': 0,\n",
       "             'r': 0,\n",
       "             's': 0,\n",
       "             't': 0,\n",
       "             'u': 0,\n",
       "             'v': 0,\n",
       "             'w': 0,\n",
       "             'x': 0,\n",
       "             'y': 0,\n",
       "             'z': 0})"
      ]
     },
     "execution_count": 8,
     "metadata": {},
     "output_type": "execute_result"
    }
   ],
   "source": [
    "import string\n",
    "ans = defaultdict(list)\n",
    "for s in string.ascii_lowercase:\n",
    "    ans[s]=0\n",
    "ans"
   ]
  },
  {
   "cell_type": "code",
   "execution_count": 16,
   "id": "7de46af5",
   "metadata": {},
   "outputs": [
    {
     "data": {
      "text/plain": [
       "dict_values([['eat', 'tea', 'ate'], ['tan', 'nat'], ['bat']])"
      ]
     },
     "execution_count": 16,
     "metadata": {},
     "output_type": "execute_result"
    }
   ],
   "source": [
    "def groupAnamgram(strs):       \n",
    "    ans = defaultdict(list)\n",
    "    count=defaultdict(list)\n",
    "    for s in string.ascii_lowercase:\n",
    "        count[s]=0\n",
    "    for n in strs:\n",
    "        dictA=count.copy()\n",
    "        for s in n:\n",
    "            dictA[s]+=1\n",
    "        ans[tuple(dictA.values())].append(n)\n",
    "    return ans.values()\n",
    "groupAnamgram([\"eat\",\"tea\",\"tan\",\"ate\",\"nat\",\"bat\"])"
   ]
  },
  {
   "cell_type": "code",
   "execution_count": 70,
   "id": "8c5c46a7",
   "metadata": {},
   "outputs": [
    {
     "data": {
      "text/plain": [
       "[6, 1]"
      ]
     },
     "execution_count": 70,
     "metadata": {},
     "output_type": "execute_result"
    }
   ],
   "source": [
    "def topKFrequent(nums, k):\n",
    "        \"\"\"\n",
    "        :type nums: List[int]\n",
    "        :type k: int\n",
    "        :rtype: List[int]\n",
    "        \"\"\"\n",
    "        hashset=[]\n",
    "        dictA=defaultdict(list)\n",
    "        for n in nums:\n",
    "            dictA[n]=1+dictA.get(n,0)\n",
    "        ans = sorted(list(dictA.values()))\n",
    "        ans2=ans[-k:]\n",
    "        for s in ans2:\n",
    "            hashset.append(list(dictA.keys())[list(dictA.values()).index(s)])\n",
    "            dictA.pop(list(dictA.keys())[list(dictA.values()).index(s)])\n",
    "            \n",
    "        return hashset\n",
    "        #print(ans2,dictA)\n",
    "topKFrequent([6,1,3],2)"
   ]
  },
  {
   "cell_type": "code",
   "execution_count": 82,
   "id": "3417eff2",
   "metadata": {},
   "outputs": [
    {
     "name": "stdout",
     "output_type": "stream",
     "text": [
      "java\n",
      "python\n",
      "python\n",
      "2\n",
      "[100, 112, 11]\n",
      "['java', 'python', 'c']\n",
      "c\n"
     ]
    }
   ],
   "source": [
    "# creating a new dictionary\n",
    "my_dict ={\"java\":100, \"python\":112, \"c\":11}\n",
    " \n",
    "# list out keys and values separately\n",
    "key_list = list(my_dict.keys())\n",
    "val_list = list(my_dict.values())\n",
    " \n",
    "# print key with val 100\n",
    "position = val_list.index(100)\n",
    "print(key_list[position])\n",
    " \n",
    "# print key with val 112\n",
    "position = val_list.index(112)\n",
    "print(key_list[position])\n",
    " \n",
    "# one-liner\n",
    "print(list(my_dict.keys())[list(my_dict.values()).index(112)])\n",
    "print(list(my_dict.values()).index(11))\n",
    "print(list(my_dict.values()))\n",
    "print(list(list(my_dict.keys())))\n",
    "print(['java', 'python', 'c'][2])"
   ]
  },
  {
   "cell_type": "code",
   "execution_count": 169,
   "id": "c8407919",
   "metadata": {},
   "outputs": [
    {
     "data": {
      "text/plain": [
       "[-1]"
      ]
     },
     "execution_count": 169,
     "metadata": {},
     "output_type": "execute_result"
    }
   ],
   "source": [
    "def topKFrequent(nums, k: int):\n",
    "    count = {}\n",
    "    freq = [[] for i in range(len(nums) + 1)]\n",
    "\n",
    "    for n in nums:\n",
    "        count[n] = 1 + count.get(n, 0)\n",
    "    for n, c in count.items():\n",
    "        freq[c].append(n)\n",
    "#     return freq, count\n",
    "\n",
    "    res = []\n",
    "    for i in range(len(freq) - 1, 0, -1):\n",
    "        for n in freq[i]:\n",
    "            res.append(n)\n",
    "#             print(n)\n",
    "#     return res, freq\n",
    "            if len(res) == k:\n",
    "                return res\n",
    "topKFrequent([1,1,1,2,2,3,100],2)\n",
    "topKFrequent([-1,-1],1)"
   ]
  },
  {
   "cell_type": "code",
   "execution_count": 171,
   "id": "cf53352e",
   "metadata": {},
   "outputs": [
    {
     "name": "stdout",
     "output_type": "stream",
     "text": [
      "Original dictionary is : \n",
      "{'A': 67, 'B': 23, 'C': 45, 'E': 12, 'F': 69, 'G': 67, 'H': 23}\n",
      "\n",
      "Dictionary after swapping is : \n",
      "keys: values\n",
      "67  : ['A', 'G']\n",
      "23  : ['B', 'H']\n",
      "45  : ['C']\n",
      "12  : ['E']\n",
      "69  : ['F']\n"
     ]
    }
   ],
   "source": [
    "# Python3 code to demonstrate\n",
    "# swap of key and value\n",
    "\n",
    "# initializing dictionary\n",
    "old_dict = {'A': 67, 'B': 23, 'C': 45, 'E': 12, 'F': 69, 'G': 67, 'H': 23}\n",
    "\n",
    "# Printing original dictionary\n",
    "print (\"Original dictionary is : \")\n",
    "print(old_dict)\n",
    "\n",
    "print()\n",
    "new_dict = {}\n",
    "for key, value in old_dict.items():\n",
    "    if value in new_dict:\n",
    "        new_dict[value].append(key)\n",
    "    else:\n",
    "        new_dict[value]=[key]\n",
    "\n",
    "# Printing new dictionary after swapping\n",
    "# keys and values\n",
    "print (\"Dictionary after swapping is : \")\n",
    "print(\"keys: values\")\n",
    "for i in new_dict:\n",
    "    print(i, \" :\", new_dict[i])\n"
   ]
  },
  {
   "cell_type": "code",
   "execution_count": 187,
   "id": "b35d7426",
   "metadata": {},
   "outputs": [
    {
     "name": "stdout",
     "output_type": "stream",
     "text": [
      "[6, 3, 2]\n",
      "[8, 12, 6]\n"
     ]
    }
   ],
   "source": [
    "# Python program to multiply all values in the\n",
    "# list using traversal\n",
    "\n",
    "def multiplyList(myList) :\n",
    "\n",
    "    # Multiply elements one by one\n",
    "    result = 1\n",
    "    for x in myList:\n",
    "        result = result * x\n",
    "    for i,x in enumerate(myList):\n",
    "        myList[i] =int(result/x)\n",
    "    return myList\n",
    "\n",
    " # Driver code\n",
    "list1 = [1, 2, 3]\n",
    "list2 = [3, 2, 4]\n",
    "print(multiplyList(list1))\n",
    "print(multiplyList(list2))\n"
   ]
  },
  {
   "cell_type": "code",
   "execution_count": 192,
   "id": "ac74bad8",
   "metadata": {},
   "outputs": [
    {
     "name": "stdout",
     "output_type": "stream",
     "text": [
      "its empty\n",
      "its empty\n"
     ]
    }
   ],
   "source": [
    "l=[1,2]\n",
    "while l:\n",
    "    print('its empty')\n",
    "    l.pop()\n",
    "    "
   ]
  },
  {
   "cell_type": "code",
   "execution_count": 207,
   "id": "42fa66b3",
   "metadata": {},
   "outputs": [],
   "source": [
    "def all_pairs(L):\n",
    "    n = len(L)\n",
    "    for i in range(n):\n",
    "        for j in range(i + 1, n):\n",
    "            yield (L[i], L[j])"
   ]
  },
  {
   "cell_type": "code",
   "execution_count": 209,
   "id": "8c298aad",
   "metadata": {},
   "outputs": [
    {
     "name": "stdout",
     "output_type": "stream",
     "text": [
      "2\n",
      "3\n",
      "4\n",
      "5\n",
      "3\n",
      "4\n",
      "5\n",
      "4\n",
      "5\n",
      "5\n"
     ]
    }
   ],
   "source": [
    "for x in all_pairs([1, 2, 3,4,5]):\n",
    "    print(x[1])"
   ]
  },
  {
   "cell_type": "code",
   "execution_count": 203,
   "id": "33c6133d",
   "metadata": {},
   "outputs": [],
   "source": [
    "def all_pairs(L):\n",
    "    n = len(L)\n",
    "    for i in range(n):\n",
    "        for j in range(i + 1, n):\n",
    "            print (L[i], L[j])"
   ]
  },
  {
   "cell_type": "code",
   "execution_count": 204,
   "id": "4b827b4f",
   "metadata": {},
   "outputs": [
    {
     "name": "stdout",
     "output_type": "stream",
     "text": [
      "1 2\n",
      "1 3\n",
      "1 4\n",
      "1 5\n",
      "2 3\n",
      "2 4\n",
      "2 5\n",
      "3 4\n",
      "3 5\n",
      "4 5\n"
     ]
    }
   ],
   "source": [
    "all_pairs([1, 2, 3,4,5])"
   ]
  },
  {
   "cell_type": "code",
   "execution_count": 215,
   "id": "afd0731e",
   "metadata": {},
   "outputs": [],
   "source": [
    "M1 = [[0] * 10 for _ in range(10)]"
   ]
  },
  {
   "cell_type": "code",
   "execution_count": 216,
   "id": "a2b54410",
   "metadata": {},
   "outputs": [
    {
     "data": {
      "text/plain": [
       "[[0, 0, 0, 0, 0, 0, 0, 0, 0, 0],\n",
       " [0, 0, 0, 0, 0, 0, 0, 0, 0, 0],\n",
       " [0, 0, 0, 0, 0, 0, 0, 0, 0, 0],\n",
       " [0, 0, 0, 0, 0, 0, 0, 0, 0, 0],\n",
       " [0, 0, 0, 0, 0, 0, 0, 0, 0, 0],\n",
       " [0, 0, 0, 0, 0, 0, 0, 0, 0, 0],\n",
       " [0, 0, 0, 0, 0, 0, 0, 0, 0, 0],\n",
       " [0, 0, 0, 0, 0, 0, 0, 0, 0, 0],\n",
       " [0, 0, 0, 0, 0, 0, 0, 0, 0, 0],\n",
       " [0, 0, 0, 0, 0, 0, 0, 0, 0, 0]]"
      ]
     },
     "execution_count": 216,
     "metadata": {},
     "output_type": "execute_result"
    }
   ],
   "source": [
    "M1"
   ]
  },
  {
   "cell_type": "code",
   "execution_count": 217,
   "id": "3115a7b4",
   "metadata": {},
   "outputs": [],
   "source": [
    "M2 = [[0 for j in range(10)] for i in range(10)]"
   ]
  },
  {
   "cell_type": "code",
   "execution_count": 218,
   "id": "7eea6999",
   "metadata": {},
   "outputs": [
    {
     "data": {
      "text/plain": [
       "[[0, 0, 0, 0, 0, 0, 0, 0, 0, 0],\n",
       " [0, 0, 0, 0, 0, 0, 0, 0, 0, 0],\n",
       " [0, 0, 0, 0, 0, 0, 0, 0, 0, 0],\n",
       " [0, 0, 0, 0, 0, 0, 0, 0, 0, 0],\n",
       " [0, 0, 0, 0, 0, 0, 0, 0, 0, 0],\n",
       " [0, 0, 0, 0, 0, 0, 0, 0, 0, 0],\n",
       " [0, 0, 0, 0, 0, 0, 0, 0, 0, 0],\n",
       " [0, 0, 0, 0, 0, 0, 0, 0, 0, 0],\n",
       " [0, 0, 0, 0, 0, 0, 0, 0, 0, 0],\n",
       " [0, 0, 0, 0, 0, 0, 0, 0, 0, 0]]"
      ]
     },
     "execution_count": 218,
     "metadata": {},
     "output_type": "execute_result"
    }
   ],
   "source": [
    "M2"
   ]
  },
  {
   "cell_type": "code",
   "execution_count": 235,
   "id": "aa16f48d",
   "metadata": {},
   "outputs": [
    {
     "data": {
      "text/plain": [
       "{'a': 3, 'b': 2, 'c': 2, 'd': 5}"
      ]
     },
     "execution_count": 235,
     "metadata": {},
     "output_type": "execute_result"
    }
   ],
   "source": [
    "def d(nums):\n",
    "    res={}\n",
    "#     res=defaultdict(int)\n",
    "    for x in nums:\n",
    "        if x not in res:\n",
    "            res[x]=1\n",
    "        else:\n",
    "            res[x]+=1\n",
    "    return res\n",
    "d('aaabbccddddd')"
   ]
  },
  {
   "cell_type": "code",
   "execution_count": 236,
   "id": "6b2fc6bb",
   "metadata": {},
   "outputs": [
    {
     "data": {
      "text/plain": [
       "defaultdict(int, {'a': 3, 'b': 2, 'c': 2, 'd': 5})"
      ]
     },
     "execution_count": 236,
     "metadata": {},
     "output_type": "execute_result"
    }
   ],
   "source": [
    "def d(nums):\n",
    "#     res={}\n",
    "    res=defaultdict(int)\n",
    "    for x in nums:\n",
    "        res[x]+=1\n",
    "    return res\n",
    "d('aaabbccddddd')"
   ]
  },
  {
   "cell_type": "code",
   "execution_count": 291,
   "id": "5c3386a1",
   "metadata": {},
   "outputs": [
    {
     "data": {
      "text/plain": [
       "([(0, 0), (0, 1), (0, 2)],\n",
       " defaultdict(list,\n",
       "             {('a', 'i', 'l', 't'): ['t', 'a', 'i', 'l', 'lait'],\n",
       "              ('a', 'd', 'e', 'h'): ['h', 'e', 'a', 'd', 'head'],\n",
       "              ('b', 'k', 'o'): ['b', 'o', 'o', 'k', 'kooob']}))"
      ]
     },
     "execution_count": 291,
     "metadata": {},
     "output_type": "execute_result"
    }
   ],
   "source": [
    "from collections import Counter\n",
    "def d(nums):\n",
    "    pen=defaultdict(list)\n",
    "    res=Counter(nums)\n",
    "    for n in nums:\n",
    "        pes=Counter(sorted(n))\n",
    "        if tuple(pes.keys()) in pen:\n",
    "            pen[tuple(pes.keys())].append(n)        \n",
    "        else:\n",
    "            pen[tuple(pes.keys())]+=n\n",
    "    return [(pes[i], i) for i,pes_i in enumerate(pes)],pen\n",
    "d(['tail', 'lait','head','head', 'book','kooob'])"
   ]
  },
  {
   "cell_type": "code",
   "execution_count": 361,
   "id": "c90349b1",
   "metadata": {},
   "outputs": [
    {
     "name": "stdout",
     "output_type": "stream",
     "text": [
      "(5, 'd')\n"
     ]
    }
   ],
   "source": [
    "# tab=Counter(['tail','tail','head','head','head','p'])\n",
    "tab=Counter({'a': 3, 'b': 2, 'c': 2, 'd': 5})\n",
    "pes=max((tab[n],n) for i,n in enumerate(tab))\n",
    "# pes4=[(tab[n], n,i) for i,n in enumerate(tab)]\n",
    "print(pes)"
   ]
  },
  {
   "cell_type": "code",
   "execution_count": 344,
   "id": "7ad1244e",
   "metadata": {},
   "outputs": [],
   "source": [
    "def majority(L):\n",
    "    count = {}\n",
    "    for word in L:\n",
    "        if word in count:\n",
    "            count[word] += 1\n",
    "        else:\n",
    "            count[word] = 1\n",
    "    # Using min() like this gives the first word with\n",
    "    # maximal count \"for free\"\n",
    "    val_1st_max, arg_1st_max = min((-count[word], word) for word in count)\n",
    "    return arg_1st_max,val_1st_max,county"
   ]
  },
  {
   "cell_type": "code",
   "execution_count": 330,
   "id": "fba2c83c",
   "metadata": {},
   "outputs": [
    {
     "data": {
      "text/plain": [
       "('tail', -3, {'tail': 3, 'lait': 1, 'head': 2, 'book': 2})"
      ]
     },
     "execution_count": 330,
     "metadata": {},
     "output_type": "execute_result"
    }
   ],
   "source": [
    "majority(['tail', 'lait','head','head', 'book','tail','book','tail'])"
   ]
  },
  {
   "cell_type": "code",
   "execution_count": 453,
   "id": "fc2bcb28",
   "metadata": {},
   "outputs": [
    {
     "data": {
      "text/plain": [
       "[['cat'], ['bat', 'tab'], ['sat'], ['ate', 'tea', 'eat']]"
      ]
     },
     "execution_count": 453,
     "metadata": {},
     "output_type": "execute_result"
    }
   ],
   "source": [
    "def anaGroup(nums,s):\n",
    "    res=collections.defaultdict(int)\n",
    "    pres=collections.defaultdict(list)\n",
    "    for n in nums:\n",
    "        for p in string.ascii_lowercase:\n",
    "            res[p]=0        \n",
    "        for s in n:\n",
    "            res[s]+=1\n",
    "        pres[tuple(res.values())].append(n)\n",
    "    r,p = max((len(pres[n]),pres[n]) for i,n in enumerate(pres))\n",
    "    return list(pres.values())\n",
    "anaGroup(['cat','bat','sat','ate','tab','tea','eat'],s())\n"
   ]
  },
  {
   "cell_type": "code",
   "execution_count": 454,
   "id": "544c8aab",
   "metadata": {},
   "outputs": [],
   "source": [
    "def dup(num):\n",
    "    hashset= set()\n",
    "    for n in num:\n",
    "        if n in hashset:\n",
    "            return True\n",
    "        else:\n",
    "            hashset.add(n)\n",
    "    return False"
   ]
  },
  {
   "cell_type": "code",
   "execution_count": 456,
   "id": "959ad60f",
   "metadata": {},
   "outputs": [
    {
     "data": {
      "text/plain": [
       "False"
      ]
     },
     "execution_count": 456,
     "metadata": {},
     "output_type": "execute_result"
    }
   ],
   "source": [
    "\n",
    "dup([1,23])"
   ]
  },
  {
   "cell_type": "code",
   "execution_count": 516,
   "id": "bbb17e3a",
   "metadata": {},
   "outputs": [],
   "source": [
    "def dup2(num):\n",
    "    hashset=set()\n",
    "    for i,n in enumerate(num):\n",
    "        if i < len(num)-1:\n",
    "            for k in range(i+1,len(num)):\n",
    "                if n==num[k]:\n",
    "                    hashset.add((num[i],num[k]))\n",
    "#                     if i not in hashset:\n",
    "#                         hashset.append(i)\n",
    "#                     if k not in hashset:\n",
    "#                         hashset.append(k)\n",
    "    return hashset        "
   ]
  },
  {
   "cell_type": "code",
   "execution_count": 517,
   "id": "94204bbe",
   "metadata": {},
   "outputs": [
    {
     "data": {
      "text/plain": [
       "{(3, 3), (5, 5)}"
      ]
     },
     "execution_count": 517,
     "metadata": {},
     "output_type": "execute_result"
    }
   ],
   "source": [
    "dup2([1,2,3,5,4,3,3,5])"
   ]
  },
  {
   "cell_type": "code",
   "execution_count": 526,
   "id": "a2e23829",
   "metadata": {},
   "outputs": [
    {
     "data": {
      "text/plain": [
       "defaultdict(list, {1: [0, 8], 3: [2, 5, 6], 5: [3, 7]})"
      ]
     },
     "execution_count": 526,
     "metadata": {},
     "output_type": "execute_result"
    }
   ],
   "source": [
    "def dup3(num):\n",
    "#     hashset=set()\n",
    "    dictN=collections.defaultdict(list)\n",
    "    for i,n in enumerate(num):\n",
    "        if i < len(num)-1:\n",
    "            for k in range(i+1,len(num)):\n",
    "                if n==num[k]:\n",
    "                    if i not in dictN[n]:\n",
    "                        dictN[n].append(i)\n",
    "                    if k not in dictN[n]:\n",
    "                        dictN[n].append(k)\n",
    "    return dictN   \n",
    "dup3([1,2,3,5,4,3,3,5,1])"
   ]
  },
  {
   "cell_type": "code",
   "execution_count": 528,
   "id": "498c98ee",
   "metadata": {},
   "outputs": [
    {
     "data": {
      "text/plain": [
       "False"
      ]
     },
     "execution_count": 528,
     "metadata": {},
     "output_type": "execute_result"
    }
   ],
   "source": [
    "def dup1(num):\n",
    "    for n in range(len(num)):\n",
    "        for k in range(n+1,len(num)):\n",
    "            if num[k]==num[n]:\n",
    "                return True\n",
    "    return False\n",
    "dup1([1,2,3,4,5,6])\n",
    "            "
   ]
  },
  {
   "cell_type": "code",
   "execution_count": 534,
   "id": "ad8f72ea",
   "metadata": {},
   "outputs": [
    {
     "data": {
      "text/plain": [
       "True"
      ]
     },
     "execution_count": 534,
     "metadata": {},
     "output_type": "execute_result"
    }
   ],
   "source": [
    "def dup2(num):\n",
    "    hashset=set()\n",
    "    for n in num:\n",
    "        if n in hashset:\n",
    "            return True\n",
    "        else:\n",
    "            hashset.add(n)\n",
    "    return False\n",
    "dup2([1,2,3,4,5,6,3])\n",
    "    "
   ]
  },
  {
   "cell_type": "code",
   "execution_count": 545,
   "id": "30bcaea8",
   "metadata": {},
   "outputs": [
    {
     "data": {
      "text/plain": [
       "defaultdict(list, {3: [2, 6], 6: [5, 7, 5, 8, 5, 9, 7, 8, 7, 9, 8, 9]})"
      ]
     },
     "execution_count": 545,
     "metadata": {},
     "output_type": "execute_result"
    }
   ],
   "source": [
    "def dup3(num):\n",
    "    hashset=collections.defaultdict(list)\n",
    "    for i,n in enumerate(num):\n",
    "        if i<len(num)-1:\n",
    "            for k in range(i+1, len(num)):\n",
    "                if num[i]==num[k]:\n",
    "                    if num[i] not in hashset[n]:\n",
    "                        hashset[n].append(i)\n",
    "                    if num[k] not in hashset[n]:\n",
    "                        hashset[n].append(k)\n",
    "    return hashset\n",
    "dup3([1,2,3,4,5,6,3,6,6,6])\n"
   ]
  },
  {
   "cell_type": "code",
   "execution_count": 544,
   "id": "06c46145",
   "metadata": {},
   "outputs": [
    {
     "name": "stdout",
     "output_type": "stream",
     "text": [
      "(3, [2, 6])\n",
      "(6, [5, 7, 8, 9])\n"
     ]
    }
   ],
   "source": [
    "from collections import defaultdict\n",
    "\n",
    "def list_duplicates(seq):\n",
    "    tally = defaultdict(list)\n",
    "    for i,item in enumerate(seq):\n",
    "        tally[item].append(i)\n",
    "    return ((key,locs) for key,locs in tally.items() \n",
    "                            if len(locs)>1)\n",
    "for d in list_duplicates([1,2,3,4,5,6,3,6,6,6]):\n",
    "    print(d)\n"
   ]
  },
  {
   "cell_type": "code",
   "execution_count": 563,
   "id": "ff2ec414",
   "metadata": {},
   "outputs": [
    {
     "name": "stdout",
     "output_type": "stream",
     "text": [
      "('3', [2, 6])\n",
      "('6', [5, 7, 8, 9])\n"
     ]
    }
   ],
   "source": [
    "def newdup3(num):\n",
    "    dictD = defaultdict(list)\n",
    "    for i, items in enumerate(num):\n",
    "        dictD[str(items)].append(i)\n",
    "    return ((key,locs) for key,locs in dictD.items() if len(dictD[key])>1)\n",
    "for d in newdup3([1,2,3,4,5,6,3,6,6,6]):\n",
    "    print(d)\n"
   ]
  },
  {
   "cell_type": "code",
   "execution_count": 572,
   "id": "348ae149",
   "metadata": {},
   "outputs": [
    {
     "data": {
      "text/plain": [
       "[('3', [2, 6]), ('6', [5, 7, 8, 9])]"
      ]
     },
     "execution_count": 572,
     "metadata": {},
     "output_type": "execute_result"
    }
   ],
   "source": [
    "def newdup4(num):\n",
    "    dictD = defaultdict(list)\n",
    "    hashset=[]\n",
    "    for i, items in enumerate(num):\n",
    "        dictD[str(items)].append(i)\n",
    "    for i,n in dictD.items():\n",
    "        if len(n)>1:\n",
    "            hashset.append((i,n))\n",
    "    return hashset\n",
    "newdup4([1,2,3,4,5,6,3,6,6,6])\n"
   ]
  },
  {
   "cell_type": "code",
   "execution_count": null,
   "id": "8cb36fca",
   "metadata": {},
   "outputs": [],
   "source": []
  }
 ],
 "metadata": {
  "kernelspec": {
   "display_name": "Python 3",
   "language": "python",
   "name": "python3"
  },
  "language_info": {
   "codemirror_mode": {
    "name": "ipython",
    "version": 3
   },
   "file_extension": ".py",
   "mimetype": "text/x-python",
   "name": "python",
   "nbconvert_exporter": "python",
   "pygments_lexer": "ipython3",
   "version": "3.8.8"
  }
 },
 "nbformat": 4,
 "nbformat_minor": 5
}

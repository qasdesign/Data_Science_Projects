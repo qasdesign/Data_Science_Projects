{
 "cells": [
  {
   "cell_type": "markdown",
   "id": "2337a52d",
   "metadata": {},
   "source": [
    "# Contains Duplicate"
   ]
  },
  {
   "cell_type": "markdown",
   "id": "19b195ce",
   "metadata": {},
   "source": [
    "Given an array of event functions, return true if any probilites appears at same in the array, and return false if every event function in an array is distinct."
   ]
  },
  {
   "cell_type": "markdown",
   "id": "0c4850a0",
   "metadata": {},
   "source": [
    "Solution using Hashset"
   ]
  },
  {
   "cell_type": "code",
   "execution_count": 9,
   "id": "8eb2308e",
   "metadata": {},
   "outputs": [],
   "source": [
    "def containsSameProbabilities(event):\n",
    "        hashset = set()\n",
    "        for n in event:\n",
    "            if n in hashset:\n",
    "                return True\n",
    "            hashset.add(n)\n",
    "        return False"
   ]
  },
  {
   "cell_type": "code",
   "execution_count": 10,
   "id": "8e373b87",
   "metadata": {},
   "outputs": [
    {
     "data": {
      "text/plain": [
       "True"
      ]
     },
     "execution_count": 10,
     "metadata": {},
     "output_type": "execute_result"
    }
   ],
   "source": [
    "event = [1,2,3,3]\n",
    "containsSameProbabilities(event)"
   ]
  },
  {
   "cell_type": "markdown",
   "id": "50d80515",
   "metadata": {},
   "source": [
    "Solution using Brute Force"
   ]
  },
  {
   "cell_type": "code",
   "execution_count": 11,
   "id": "94e51efe",
   "metadata": {},
   "outputs": [],
   "source": [
    "def containsSameProbabilities2(event):\n",
    "    for i, n in enumerate(event):\n",
    "            for j in range(i+1,len(event)):\n",
    "                if n==event[j]: return True\n",
    "    return False"
   ]
  },
  {
   "cell_type": "code",
   "execution_count": 12,
   "id": "870b0b15",
   "metadata": {},
   "outputs": [
    {
     "data": {
      "text/plain": [
       "True"
      ]
     },
     "execution_count": 12,
     "metadata": {},
     "output_type": "execute_result"
    }
   ],
   "source": [
    "containsSameProbabilities([1,2,3,4,4,6])"
   ]
  }
 ],
 "metadata": {
  "kernelspec": {
   "display_name": "Python 3",
   "language": "python",
   "name": "python3"
  },
  "language_info": {
   "codemirror_mode": {
    "name": "ipython",
    "version": 3
   },
   "file_extension": ".py",
   "mimetype": "text/x-python",
   "name": "python",
   "nbconvert_exporter": "python",
   "pygments_lexer": "ipython3",
   "version": "3.8.8"
  }
 },
 "nbformat": 4,
 "nbformat_minor": 5
}

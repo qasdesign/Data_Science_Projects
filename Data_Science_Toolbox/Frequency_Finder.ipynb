{
 "cells": [
  {
   "cell_type": "markdown",
   "id": "4cdeafbf",
   "metadata": {},
   "source": [
    "# Frequency Finder"
   ]
  },
  {
   "cell_type": "code",
   "execution_count": 2,
   "id": "fec1d2eb",
   "metadata": {},
   "outputs": [],
   "source": [
    "def frequencyFinder(nums):\n",
    "        dictA = {}\n",
    "        for n in nums:\n",
    "            dictA[n] = 1 + dictA.get(n,0)\n",
    "        return dictA "
   ]
  }
 ],
 "metadata": {
  "kernelspec": {
   "display_name": "Python 3",
   "language": "python",
   "name": "python3"
  },
  "language_info": {
   "codemirror_mode": {
    "name": "ipython",
    "version": 3
   },
   "file_extension": ".py",
   "mimetype": "text/x-python",
   "name": "python",
   "nbconvert_exporter": "python",
   "pygments_lexer": "ipython3",
   "version": "3.8.8"
  }
 },
 "nbformat": 4,
 "nbformat_minor": 5
}
